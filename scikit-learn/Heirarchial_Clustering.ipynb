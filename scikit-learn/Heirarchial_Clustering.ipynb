{
 "cells": [
  {
   "cell_type": "markdown",
   "metadata": {},
   "source": [
    "# Heirarchial Clustering"
   ]
  },
  {
   "cell_type": "markdown",
   "metadata": {},
   "source": [
    "- Heirarchial clustering is mainly used to group our data for better understanding of how our data is distributed\n",
    "- specifically it is used in building intuitive heat maps which represent common features or data points together\n",
    "- unlike k mean clustering we cannot provide any specific value represnting the number of clusters we want. The heirarchial clustering algorithm automatically performs this"
   ]
  },
  {
   "cell_type": "markdown",
   "metadata": {},
   "source": [
    "- Assume that we are working with different blood samples each having a set of gene features\n",
    "\n",
    "### The steps which are followed in heirarchial clustering are as follows:\n",
    "1. We find the similarity (reverse of distance) between the first sample and the remaining one's\n",
    "2. similarly we find the similarity between every sample and every other sample\n",
    "3. Out of all these we find the most similar combination of samples and group them into a cluster\n",
    "4. We repeat steps 1 - 3 considering the cluster as a new sample by it self\n",
    "5. After each step of this process we end up combining samples and finally end up with just 2 clusters"
   ]
  },
  {
   "cell_type": "markdown",
   "metadata": {},
   "source": [
    "### What is meant by similarity?\n",
    "- Similarity can be any measure which can be chosen based on the problenm to define how close two samples are\n",
    "- Most commonly we use euclidian distance as a similarity measure i.e. shorter the euclidian distance between the two samples; more closer or similar they are\n",
    "- We also have many other type of similarity measures like\n",
    "    1. Manhattan distance\n",
    "    2. Minkowski distance"
   ]
  },
  {
   "cell_type": "markdown",
   "metadata": {},
   "source": [
    "### After grouping the data-points into cluster how do we compare with other clusters/ data-points?\n",
    "We can use several different measures to compare clusters\n",
    "1. We can compare with the centroid of the existing cluster (similar to average)\n",
    "2. We can find distances based on the closest point in a cluster (single linkage)\n",
    "3. We can find distances based on the closest point in a cluster (complete linkage)\n"
   ]
  },
  {
   "cell_type": "markdown",
   "metadata": {},
   "source": [
    "### How do we represent the heirarchial clusters?\n",
    "\n",
    "We can represent such heirarchial clustering using dendrograms\n",
    "Refer: https://www.displayr.com/what-is-dendrogram/"
   ]
  },
  {
   "cell_type": "markdown",
   "metadata": {},
   "source": [
    "## Sources:"
   ]
  },
  {
   "cell_type": "markdown",
   "metadata": {},
   "source": [
    "- https://www.youtube.com/watch?v=7xHsRkOdVwo\n",
    "- https://scikit-learn.org/stable/modules/clustering.html#hierarchical-clustering"
   ]
  },
  {
   "cell_type": "markdown",
   "metadata": {},
   "source": [
    "## Example "
   ]
  },
  {
   "cell_type": "code",
   "execution_count": 1,
   "metadata": {},
   "outputs": [],
   "source": [
    "from sklearn.cluster import AgglomerativeClustering\n",
    "import numpy as np"
   ]
  },
  {
   "cell_type": "code",
   "execution_count": 2,
   "metadata": {},
   "outputs": [
    {
     "data": {
      "text/plain": [
       "AgglomerativeClustering()"
      ]
     },
     "execution_count": 2,
     "metadata": {},
     "output_type": "execute_result"
    }
   ],
   "source": [
    "X = np.array([[1, 2], [1, 4], [1, 0], [4, 2], [4, 4], [4, 0]])\n",
    "clustering = AgglomerativeClustering().fit(X)\n",
    "clustering"
   ]
  },
  {
   "cell_type": "code",
   "execution_count": 3,
   "metadata": {},
   "outputs": [
    {
     "data": {
      "text/plain": [
       "array([1, 1, 1, 0, 0, 0], dtype=int64)"
      ]
     },
     "execution_count": 3,
     "metadata": {},
     "output_type": "execute_result"
    }
   ],
   "source": [
    "clustering.labels_"
   ]
  },
  {
   "cell_type": "code",
   "execution_count": 5,
   "metadata": {},
   "outputs": [
    {
     "data": {
      "text/plain": [
       "array([1, 1, 1, 0, 0, 0], dtype=int64)"
      ]
     },
     "execution_count": 5,
     "metadata": {},
     "output_type": "execute_result"
    }
   ],
   "source": [
    "clustering.fit_predict(X, [0, 0])"
   ]
  },
  {
   "cell_type": "code",
   "execution_count": null,
   "metadata": {},
   "outputs": [],
   "source": []
  }
 ],
 "metadata": {
  "kernelspec": {
   "display_name": "Python 3",
   "language": "python",
   "name": "python3"
  },
  "language_info": {
   "codemirror_mode": {
    "name": "ipython",
    "version": 3
   },
   "file_extension": ".py",
   "mimetype": "text/x-python",
   "name": "python",
   "nbconvert_exporter": "python",
   "pygments_lexer": "ipython3",
   "version": "3.7.7"
  }
 },
 "nbformat": 4,
 "nbformat_minor": 4
}
