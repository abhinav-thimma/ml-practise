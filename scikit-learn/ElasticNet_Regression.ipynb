{
 "cells": [
  {
   "cell_type": "markdown",
   "metadata": {},
   "source": [
    "# Elastic Net Regression"
   ]
  },
  {
   "cell_type": "markdown",
   "metadata": {},
   "source": [
    "As noted earlier,\n",
    "\n",
    "- Ridge Regression is particularly helpful to reduce the variance when we know a lot of paramters are very important for our final result\n",
    "- Also, Lasso Regression is useful when we want to reduce variance but we know that many of our parameters are not that useful for predicting the outcome"
   ]
  },
  {
   "cell_type": "markdown",
   "metadata": {},
   "source": [
    "The analysis of useful or useless parameters can be done for a limited set of paramters.\n",
    "But assume we have thousands if not millions of parameters and we don't know the nature of which of these is useful or useless based on the measures we define. In such a case we tend to go with Elastic Net Regression."
   ]
  },
  {
   "cell_type": "markdown",
   "metadata": {},
   "source": [
    "## What value should we minimize in Elastic Net Regression?"
   ]
  },
  {
   "cell_type": "markdown",
   "metadata": {},
   "source": [
    "Elastic Net Regression is a combination of both Lasso and Ridge Regression and thus we have two additional terms in the equation to minimize.\n",
    "\n",
    "minimize ( \n",
    "       \n",
    "            sum of residuals\n",
    "            + lambda1 * (|var1| + |var2| + ...)\n",
    "            + lambda2 * ( var1^2 + var2^2 + ...)\n",
    "         )"
   ]
  },
  {
   "cell_type": "markdown",
   "metadata": {},
   "source": [
    "In  the above equation when:\n",
    "    1. lambda1 and lamda2 are 0:  we get least square estimate\n",
    "    2. lambda1 == 0 and lambda2 > 0: Ridge Regression\n",
    "    3. lambda2 == 0 and lamdba1 > 0: Lasso Regression\n",
    "    4. lambda1 > 0 and lambda2 > 0: hybrid of Lasso and Ridge Regression"
   ]
  },
  {
   "cell_type": "markdown",
   "metadata": {},
   "source": [
    "The hybrid of both is especially useful when dealing with data parameters that have a lot of correlation. This effect occurs because:\n",
    "\n",
    "    Lasso Regression term eliminates unneccessary parameters\n",
    "    Ridge Regression minimizes the ipact of high impact parameters"
   ]
  },
  {
   "cell_type": "markdown",
   "metadata": {},
   "source": [
    "## Source:\n",
    "https://www.youtube.com/watch?v=1dKRdX9bfIo"
   ]
  },
  {
   "cell_type": "markdown",
   "metadata": {},
   "source": [
    "## Further Reading:\n",
    "https://scikit-learn.org/stable/modules/linear_model.html#elastic-net"
   ]
  },
  {
   "cell_type": "markdown",
   "metadata": {},
   "source": [
    "# Example"
   ]
  },
  {
   "cell_type": "code",
   "execution_count": 2,
   "metadata": {},
   "outputs": [],
   "source": [
    "from sklearn.linear_model import ElasticNetCV\n",
    "from sklearn.datasets import make_regression"
   ]
  },
  {
   "cell_type": "code",
   "execution_count": 5,
   "metadata": {},
   "outputs": [],
   "source": [
    "# here lambda1 and lambda2 are computed using the values of alpha and li_ratio\n",
    "# as we are using a cross validation we can provide multiple alphas\n",
    "reg = ElasticNetCV(cv = 5, alphas = [.45,.5,.55,.6,.65] , l1_ratio = .25)\n",
    "\n",
    "X, y = make_regression(n_features=2, random_state=0)"
   ]
  },
  {
   "cell_type": "code",
   "execution_count": 7,
   "metadata": {},
   "outputs": [
    {
     "data": {
      "text/plain": [
       "ElasticNetCV(alphas=[0.45, 0.5, 0.55, 0.6, 0.65], cv=5, l1_ratio=0.25)"
      ]
     },
     "execution_count": 7,
     "metadata": {},
     "output_type": "execute_result"
    }
   ],
   "source": [
    "reg.fit(X, y)"
   ]
  },
  {
   "cell_type": "code",
   "execution_count": 9,
   "metadata": {},
   "outputs": [
    {
     "name": "stdout",
     "output_type": "stream",
     "text": [
      "alpha = 0.45, intercept = 1.0786874961880142\n"
     ]
    }
   ],
   "source": [
    "print(f'alpha = {reg.alpha_}, intercept = {reg.intercept_}')"
   ]
  },
  {
   "cell_type": "code",
   "execution_count": 11,
   "metadata": {},
   "outputs": [
    {
     "data": {
      "text/plain": [
       "array([1.0786875])"
      ]
     },
     "execution_count": 11,
     "metadata": {},
     "output_type": "execute_result"
    }
   ],
   "source": [
    "reg.predict([[0, 0]])"
   ]
  },
  {
   "cell_type": "markdown",
   "metadata": {},
   "source": [
    "### MultiTask ElasticNet"
   ]
  },
  {
   "cell_type": "code",
   "execution_count": 13,
   "metadata": {},
   "outputs": [],
   "source": [
    "from sklearn.linear_model import MultiTaskElasticNet"
   ]
  },
  {
   "cell_type": "code",
   "execution_count": 15,
   "metadata": {},
   "outputs": [
    {
     "data": {
      "text/plain": [
       "MultiTaskElasticNet(alpha=0.1)"
      ]
     },
     "execution_count": 15,
     "metadata": {},
     "output_type": "execute_result"
    }
   ],
   "source": [
    "clf = MultiTaskElasticNet(alpha=0.1)\n",
    "clf.fit([[0,0], [1, 1], [2, 2]], [[0, 0], [1, 1], [2, 2]])"
   ]
  },
  {
   "cell_type": "code",
   "execution_count": 16,
   "metadata": {},
   "outputs": [
    {
     "name": "stdout",
     "output_type": "stream",
     "text": [
      "coefficients = [[0.45663524 0.45612256]\n",
      " [0.45663524 0.45612256]], intercepts = [0.0872422 0.0872422] \n"
     ]
    }
   ],
   "source": [
    "print(f'coefficients = {clf.coef_}, intercepts = {clf.intercept_} ')"
   ]
  },
  {
   "cell_type": "code",
   "execution_count": null,
   "metadata": {},
   "outputs": [],
   "source": []
  }
 ],
 "metadata": {
  "kernelspec": {
   "display_name": "Python 3",
   "language": "python",
   "name": "python3"
  },
  "language_info": {
   "codemirror_mode": {
    "name": "ipython",
    "version": 3
   },
   "file_extension": ".py",
   "mimetype": "text/x-python",
   "name": "python",
   "nbconvert_exporter": "python",
   "pygments_lexer": "ipython3",
   "version": "3.7.7"
  }
 },
 "nbformat": 4,
 "nbformat_minor": 4
}
